{
  "nbformat": 4,
  "nbformat_minor": 0,
  "metadata": {
    "colab": {
      "provenance": [],
      "mount_file_id": "1pL7tYGATMUOidQa4SGpxxvz-i1MFKu1Z",
      "authorship_tag": "ABX9TyM3+jPycRHmiowQgaIL4W45",
      "include_colab_link": true
    },
    "kernelspec": {
      "name": "python3",
      "display_name": "Python 3"
    },
    "language_info": {
      "name": "python"
    }
  },
  "cells": [
    {
      "cell_type": "markdown",
      "metadata": {
        "id": "view-in-github",
        "colab_type": "text"
      },
      "source": [
        "<a href=\"https://colab.research.google.com/github/PedroSalomaoR/ML-com-colab/blob/main/transferlearning.ipynb\" target=\"_parent\"><img src=\"https://colab.research.google.com/assets/colab-badge.svg\" alt=\"Open In Colab\"/></a>"
      ]
    },
    {
      "cell_type": "markdown",
      "source": [
        "importando bibliotecas"
      ],
      "metadata": {
        "id": "QBR-6E2-2eWL"
      }
    },
    {
      "cell_type": "code",
      "source": [
        "import tensorflow as tf\n",
        "import matplotlib.pyplot as plt\n",
        "import numpy as np\n",
        "import os\n"
      ],
      "metadata": {
        "id": "KG0evXb0xzpx"
      },
      "execution_count": 48,
      "outputs": []
    },
    {
      "cell_type": "markdown",
      "source": [
        "definindo o caminho das fotos de treino"
      ],
      "metadata": {
        "id": "PhbaKHpP2klK"
      }
    },
    {
      "cell_type": "code",
      "source": [
        "base_dir = \"pasta_animais/pasta_animais\"\n"
      ],
      "metadata": {
        "id": "gMUzSHsiw2Oj"
      },
      "execution_count": 49,
      "outputs": []
    },
    {
      "cell_type": "markdown",
      "source": [
        "Criaando e compilando o modelo com MobileNetV2"
      ],
      "metadata": {
        "id": "Y94Mo08y2whM"
      }
    },
    {
      "cell_type": "code",
      "source": [
        "import tensorflow as tf\n",
        "from tensorflow.keras import layers, models\n",
        "\n",
        "IMG_SIZE = 160\n",
        "\n",
        "base_model = tf.keras.applications.MobileNetV2(\n",
        "    input_shape=(IMG_SIZE, IMG_SIZE, 3),\n",
        "    include_top=False,\n",
        "    weights='imagenet'\n",
        ")\n",
        "base_model.trainable = False\n",
        "\n"
      ],
      "metadata": {
        "id": "CmOVHzWMzdCe"
      },
      "execution_count": 50,
      "outputs": []
    },
    {
      "cell_type": "markdown",
      "source": [
        "Montando o modelo com camada densa final"
      ],
      "metadata": {
        "id": "Yk64-XC63m9V"
      }
    },
    {
      "cell_type": "code",
      "source": [
        "model = models.Sequential([\n",
        "    base_model,\n",
        "    layers.GlobalAveragePooling2D(),\n",
        "    layers.Dense(1, activation='sigmoid')\n",
        "])\n"
      ],
      "metadata": {
        "id": "tPc8PTOVyH9g"
      },
      "execution_count": 51,
      "outputs": []
    },
    {
      "cell_type": "markdown",
      "source": [
        "Compilando o modelo"
      ],
      "metadata": {
        "id": "GnhSpwde3yFG"
      }
    },
    {
      "cell_type": "code",
      "source": [
        "model.compile(\n",
        "    optimizer='adam',\n",
        "    loss='binary_crossentropy',\n",
        "    metrics=['accuracy']\n",
        ")\n"
      ],
      "metadata": {
        "id": "HvwGaIYRznVJ"
      },
      "execution_count": 52,
      "outputs": []
    },
    {
      "cell_type": "code",
      "source": [
        "from PIL import Image\n",
        "import os\n",
        "\n",
        "base_dir = \"pasta_animais/pasta_animais\"  # ajuste se necessário\n",
        "\n",
        "def verificar_imagens(diretorio):\n",
        "    num_removidos = 0\n",
        "    for pasta_classe in os.listdir(diretorio):\n",
        "        pasta_completa = os.path.join(diretorio, pasta_classe)\n",
        "        if not os.path.isdir(pasta_completa):\n",
        "            continue\n",
        "        for arquivo in os.listdir(pasta_completa):\n",
        "            caminho_arquivo = os.path.join(pasta_completa, arquivo)\n",
        "            try:\n",
        "                img = Image.open(caminho_arquivo)\n",
        "                img.verify()\n",
        "            except (IOError, SyntaxError):\n",
        "                print(f\"Arquivo corrompido removido: {caminho_arquivo}\")\n",
        "                os.remove(caminho_arquivo)\n",
        "                num_removidos += 1\n",
        "    print(f\"Total de arquivos removidos: {num_removidos}\")\n",
        "\n",
        "verificar_imagens(base_dir)\n"
      ],
      "metadata": {
        "colab": {
          "base_uri": "https://localhost:8080/"
        },
        "id": "EyYCvLeS6MyH",
        "outputId": "49801787-43ff-4c45-e39c-05fa62b49b65"
      },
      "execution_count": 53,
      "outputs": [
        {
          "output_type": "stream",
          "name": "stdout",
          "text": [
            "Total de arquivos removidos: 0\n"
          ]
        }
      ]
    },
    {
      "cell_type": "markdown",
      "source": [
        "Treinando o modelo"
      ],
      "metadata": {
        "id": "jyxQKAg937uO"
      }
    },
    {
      "cell_type": "code",
      "source": [
        "EPOCHS = 5\n",
        "\n",
        "\n",
        "history = model.fit(\n",
        "    train_generator,\n",
        "    validation_data=val_generator,\n",
        "    epochs=EPOCHS\n",
        ")\n"
      ],
      "metadata": {
        "colab": {
          "base_uri": "https://localhost:8080/"
        },
        "id": "cxEr9hvYz5Xn",
        "outputId": "043d09bb-5a38-48de-ebb3-7b87040f31cd"
      },
      "execution_count": 54,
      "outputs": [
        {
          "output_type": "stream",
          "name": "stdout",
          "text": [
            "Epoch 1/5\n",
            "\u001b[1m625/625\u001b[0m \u001b[32m━━━━━━━━━━━━━━━━━━━━\u001b[0m\u001b[37m\u001b[0m \u001b[1m491s\u001b[0m 777ms/step - accuracy: 0.9335 - loss: 0.1554 - val_accuracy: 0.9744 - val_loss: 0.0659\n",
            "Epoch 2/5\n",
            "\u001b[1m625/625\u001b[0m \u001b[32m━━━━━━━━━━━━━━━━━━━━\u001b[0m\u001b[37m\u001b[0m \u001b[1m493s\u001b[0m 788ms/step - accuracy: 0.9784 - loss: 0.0580 - val_accuracy: 0.9732 - val_loss: 0.0663\n",
            "Epoch 3/5\n",
            "\u001b[1m625/625\u001b[0m \u001b[32m━━━━━━━━━━━━━━━━━━━━\u001b[0m\u001b[37m\u001b[0m \u001b[1m487s\u001b[0m 780ms/step - accuracy: 0.9801 - loss: 0.0531 - val_accuracy: 0.9764 - val_loss: 0.0632\n",
            "Epoch 4/5\n",
            "\u001b[1m625/625\u001b[0m \u001b[32m━━━━━━━━━━━━━━━━━━━━\u001b[0m\u001b[37m\u001b[0m \u001b[1m485s\u001b[0m 777ms/step - accuracy: 0.9824 - loss: 0.0487 - val_accuracy: 0.9770 - val_loss: 0.0607\n",
            "Epoch 5/5\n",
            "\u001b[1m625/625\u001b[0m \u001b[32m━━━━━━━━━━━━━━━━━━━━\u001b[0m\u001b[37m\u001b[0m \u001b[1m525s\u001b[0m 841ms/step - accuracy: 0.9818 - loss: 0.0486 - val_accuracy: 0.9774 - val_loss: 0.0632\n"
          ]
        }
      ]
    },
    {
      "cell_type": "markdown",
      "source": [
        "Resultado do treino"
      ],
      "metadata": {
        "id": "ALaDX8hL4uP6"
      }
    },
    {
      "cell_type": "code",
      "source": [
        "import matplotlib.pyplot as plt\n",
        "\n",
        "acc = history.history['accuracy']\n",
        "val_acc = history.history['val_accuracy']\n",
        "loss = history.history['loss']\n",
        "val_loss = history.history['val_loss']\n",
        "\n",
        "epochs_range = range(EPOCHS)\n",
        "\n",
        "plt.figure(figsize=(12, 4))\n",
        "\n",
        "plt.subplot(1, 2, 1)\n",
        "plt.plot(epochs_range, acc, label='Treinamento')\n",
        "plt.plot(epochs_range, val_acc, label='Validação')\n",
        "plt.legend()\n",
        "plt.title('Acurácia')\n",
        "\n",
        "plt.subplot(1, 2, 2)\n",
        "plt.plot(epochs_range, loss, label='Treinamento')\n",
        "plt.plot(epochs_range, val_loss, label='Validação')\n",
        "plt.legend()\n",
        "plt.title('Perda')\n",
        "\n",
        "plt.show()\n"
      ],
      "metadata": {
        "colab": {
          "base_uri": "https://localhost:8080/",
          "height": 391
        },
        "id": "-u9H6Z_Kz-x8",
        "outputId": "e5a4aa14-d2cf-4dfd-91fe-f58fe6cb3c04"
      },
      "execution_count": 55,
      "outputs": [
        {
          "output_type": "display_data",
          "data": {
            "text/plain": [
              "<Figure size 1200x400 with 2 Axes>"
            ],
            "image/png": "[encoded data removed]"
          },
          "metadata": {}
        }
      ]
    }
  ]
}